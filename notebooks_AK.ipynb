{
  "metadata": {
    "language_info": {
      "codemirror_mode": {
        "name": "python",
        "version": 3
      },
      "file_extension": ".py",
      "mimetype": "text/x-python",
      "name": "python",
      "nbconvert_exporter": "python",
      "pygments_lexer": "ipython3",
      "version": "3.8"
    },
    "kernelspec": {
      "name": "python",
      "display_name": "Python (Pyodide)",
      "language": "python"
    }
  },
  "nbformat_minor": 4,
  "nbformat": 4,
  "cells": [
    {
      "cell_type": "markdown",
      "source": "Create a markdown cell with the title of the notebook",
      "metadata": {}
    },
    {
      "cell_type": "markdown",
      "source": "#Header 1; $notebook$",
      "metadata": {}
    },
    {
      "cell_type": "markdown",
      "source": "##Header 2; $introduction$",
      "metadata": {}
    },
    {
      "cell_type": "markdown",
      "source": "##Header 2; $data science languages list$\n###List; $Python, R, SQL, Java, C/C++, JavaScript$\n",
      "metadata": {}
    },
    {
      "cell_type": "markdown",
      "source": "##Header 2; $data science libraries$\n###List; $[ { \"List\": \"TensorFlow\" }, { \"List\": \"NumPy\" }, { \"List\": \"SciPy\" }, { \"List\": \"Pandas\" }, { \"List\"\": \"Matplotlib\" }, {\"List\": \"Keras\" }{ \"List\": \"PyTorch\" },{ \"List\": \"PyBrain\" } ]$",
      "metadata": {}
    },
    {
      "cell_type": "markdown",
      "source": "##Header 2; $table of Data Science tools$\n###list; $Tools,Tableau,TensorFlow,Excel,Google Analytics,Python,R(RStudio),Jupyter,Matplotlib,MATLAB$",
      "metadata": {}
    },
    {
      "cell_type": "markdown",
      "source": " ##Header2; $arithmetic expression examples introducion$\n ###Introduction to arithmetic expression examples; $An arithmetic expression is an expression built up using numbers, arithmetic operators (such as +, , -, / and ) and parentheses, \"(\" and \")\". Arithmetic expressions may also make use of exponents, for example, writing 23as an abreviation for ((2 2) 2)$",
      "metadata": {}
    },
    {
      "cell_type": "markdown",
      "source": "##Heading 2; $Create a code cell to multiply and add numbers$\n###code; $9.25 * 0.15 +10.50$",
      "metadata": {}
    },
    {
      "cell_type": "markdown",
      "source": "##Heading2;  $code cell to convert minutes to hours$\n###code; $CONVERT(Cellnumber\"mn\",\"hr\")$",
      "metadata": {}
    },
    {
      "cell_type": "markdown",
      "source": "##Heading 2 ; $list Objectives$\n###list; $Collecting data, Processing data, Exploring and visualizing data, Analyzing (data) and/or applying machine learning (to data), Deciding (or planning) based on acquired insight$",
      "metadata": {}
    },
    {
      "cell_type": "markdown",
      "source": "Heading 2; $authors name$\n\"authors\": [\n  { \"name\": \"Author1\" },\n  { \"name\": \"Author2\" }\n]",
      "metadata": {}
    },
    {
      "cell_type": "code",
      "source": "",
      "metadata": {},
      "execution_count": null,
      "outputs": []
    }
  ]
}